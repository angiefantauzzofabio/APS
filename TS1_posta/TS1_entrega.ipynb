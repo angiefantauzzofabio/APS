{
 "cells": [
  {
   "cell_type": "markdown",
   "id": "edc2a940-3d98-46d3-8f8a-6a33faff2607",
   "metadata": {},
   "source": [
    "# TS1: Síntesis de señales\n",
    "### Autora: Angelina Fantauzzo Fabio\n",
    "\n",
    "**Consigna**: \n",
    "\n",
    "Resolver\n",
    "1) Sintetizar y graficar:\n",
    "\n",
    "    Una señal sinusoidal de 2KHz.\n",
    "    Misma señal amplificada y desfazada en π/2.\n",
    "    Misma señal modulada en amplitud por otra señal sinusoidal de la mitad de la frecuencia.\n",
    "    Señal anterior recortada al 75% de su amplitud.\n",
    "    Una señal cuadrada de 4KHz.\n",
    "    Un pulso rectangular de 10ms.\n",
    "    En cada caso indique tiempo entre muestras, número de muestras y potencia o energía según corresponda.\n",
    "   \n",
    "2) Verificar ortogonalidad entre la primera señal y las demás.\n",
    "\n",
    "3) Graficar la autocorrelación de la primera señal y la correlación entre ésta y las demás.\n",
    "\n",
    "4) Dada la siguiente propiedad trigonométrica:\n",
    "\n",
    "   2⋅𝑠𝑖𝑛(α)⋅𝑠𝑖𝑛(β)=𝑐𝑜𝑠(α−β)−𝑐𝑜𝑠(α+β)\n",
    "\n",
    "    Demostrar la igualdad\n",
    "    Mostrar que la igualdad se cumple con señales sinosoidales, considerando α=ω⋅𝑡\n",
    "    , el doble de β (Use la frecuencia que desee).\n"
   ]
  },
  {
   "cell_type": "markdown",
   "id": "ecf44288-8a15-4fcc-a698-9eb96888247c",
   "metadata": {},
   "source": [
    "\n",
    "*A continuacion dejo el desarollo del codigo:*\n"
   ]
  },
  {
   "cell_type": "code",
   "execution_count": null,
   "id": "e3847e2e-cef6-43eb-a6f7-307c7f06a500",
   "metadata": {},
   "outputs": [],
   "source": []
  },
  {
   "cell_type": "code",
   "execution_count": null,
   "id": "9063788d-28ac-48b8-8d35-045d11a48c6e",
   "metadata": {},
   "outputs": [],
   "source": []
  }
 ],
 "metadata": {
  "kernelspec": {
   "display_name": "Python 3 (ipykernel)",
   "language": "python",
   "name": "python3"
  },
  "language_info": {
   "codemirror_mode": {
    "name": "ipython",
    "version": 3
   },
   "file_extension": ".py",
   "mimetype": "text/x-python",
   "name": "python",
   "nbconvert_exporter": "python",
   "pygments_lexer": "ipython3",
   "version": "3.9.0"
  }
 },
 "nbformat": 4,
 "nbformat_minor": 5
}
