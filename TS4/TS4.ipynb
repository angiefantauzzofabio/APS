{
 "cells": [
  {
   "cell_type": "markdown",
   "id": "e254c11a-4ab7-4acb-8dee-bc6a55da6e92",
   "metadata": {},
   "source": [
    "# TS4: Primeras nociones de estimación espectral\n",
    "### Autoras: Noelia Ferrari y Angelina Fantauzzo Fabio\n",
    "\n",
    "**Consigna**: \n",
    "Considere 200 realizaciones (muestras tomadas de 𝑓𝑟) de 1000 muestras para cada experimento.\n",
    "Parametrice para SNR's de 3 y 10 db (Ayuda: calibre 𝑎1\n",
    " para que la potencia de la senoidal sea 1 W).\n",
    "Se pide:\n",
    "\n",
    "Realizar una tabla por cada SNR, que describa el sesgo y la varianza de cada estimador para cada ventana analizada. Recuerde incluir las ventanas rectangular (sin ventana), flattop y blackmanharris y otras que considere. \n"
   ]
  },
  {
   "cell_type": "markdown",
   "id": "df7e9e8c-9cc6-4b86-9975-9bd1a1931efa",
   "metadata": {},
   "source": [
    "## Introducciones teóricas"
   ]
  },
  {
   "cell_type": "markdown",
   "id": "af687a30-8e82-434b-b147-b384d583de6b",
   "metadata": {},
   "source": [
    "En el análisis y procesamiento de señales, un problema es la estimación de parámetros de una señal senoidal con ruido, en particular su amplitud y su frecuencia.\n",
    "La señal de interés puede modelarse como:\n",
    "$$\n",
    "x(k) = a_{0} \\cdot \\sin(\\Omega_{1} \\cdot n) + n_{a}(n)\n",
    "$$\n",
    "\n",
    "$$\n",
    "a_{0} = 2\n",
    "$$\n",
    "\n",
    "$$\n",
    "\\Omega_{1} = \\Omega_{0} + f_{r} \\cdot \\frac{2\\pi}{N}\n",
    "$$\n",
    "\n",
    "$$\n",
    "\\Omega_{0} = \\frac{\\pi}{2}\n",
    "$$\n",
    "\n",
    "donde:\n",
    "- a0es la amplitud de la senoidal.\n",
    "\n",
    "\n",
    "- Ω1 es la frecuencia angular de la señal, afectada por un pequeño corrimiento aleatorio.\n",
    "\n",
    "\n",
    "- na(n) es un ruido aditivo gaussiano blanco (AWGN) con media cero y varianza σ^2."
   ]
  },
  {
   "cell_type": "markdown",
   "id": "e2257aa3",
   "metadata": {},
   "source": [
    "### SNR\n",
    "El SNR es la relacion señal con ruido, mide qué tan fuerte es la señal respecto al ruido que la acompaña. \n",
    "\n",
    "La relación se define como:\n",
    "\n",
    "$$\n",
    "\\text{SNR (dB)} = 10 \\log_{10} \\frac{P_\\text{señal}}{P_\\text{ruido}}\n",
    "$$\n",
    "\n",
    "Para una señal senoidal:\n",
    "\n",
    "$$\n",
    "x(t) = A \\sin(2\\pi f t), \\quad P_\\text{señal} = \\frac{A^2}{2}\n",
    "$$\n",
    "\n",
    "Dado un SNR deseado, en este caso 3db o 10db, la potencia del ruido se calcula como:\n",
    "\n",
    "$$\n",
    "P_\\text{ruido} = \\frac{P_\\text{señal}}{10^{\\text{SNR}/10}}\n",
    "$$\n",
    "\n",
    "Y el desvío estándar del ruido gaussiano es:\n",
    "\n",
    "$$\n",
    "\\sigma_\\text{ruido} = \\sqrt{P_\\text{ruido}}\n",
    "$$\n",
    "\n",
    "Finalmente, la señal con ruido es:\n",
    "\n",
    "$$\n",
    "S = x(t) + R, \\quad R \\sim \\mathcal{N}(0, \\sigma_\\text{ruido}^2)\n",
    "$$\n",
    "\n"
   ]
  },
  {
   "cell_type": "markdown",
   "id": "8b6ea584-3828-481d-bbd3-02c7c268bb7c",
   "metadata": {},
   "source": [
    "### Estimadores\n",
    "Para simular un entorno realista se introducen dos fuentes de aleatoriedad:\n",
    "- Un desplazamiento aleatorio en la frecuencia, modelado por una distribución uniforme.\n",
    "\n",
    "\n",
    "- La presencia de ruido blanco gaussiano, que representa interferencias.\n",
    "\n",
    "\n",
    "La relación entre la potencia de la señal y la del ruido se controla mediante la relación señal a ruido (SNR), fundamental para evaluar el rendimiento de los estimadores.\n",
    "\n",
    "El objetivo es estimar los parámetros a0​ y Ω1​ a partir de muestras ruidosas. Para ello se emplean estimadores basados en la Transformada Discreta de Fourier (DFT) aplicada sobre la señal multiplicada por una ventana w(n).\n",
    "\n",
    "Un estimador es una regla o algoritmo que utiliza datos muestrales para aproximar un parámetro que desconocemos.\n",
    "\n",
    "**Estimador de amplitud**\n",
    "$$\n",
    "\\hat{a}_{1}^{\\,i} = \\left| X_{w}^{i}(\\Omega_{0}) \\right| \n",
    "= \\left| \\mathcal{F}\\{ x(n) \\cdot w_{i}(n) \\} \\right|\n",
    "$$\n",
    "\n",
    "**Estimador de frecuencia**\n",
    "$$\n",
    "\\hat{\\Omega}_{1}^{\\,i} = \\arg\\max_{f} \\left\\{ \\left| X_{w}^{i}(\\Omega) \\right| \\right\\}\n",
    "$$\n",
    "\n",
    "*Observacion*\n",
    "\n",
    "Al calcular un estimador de frecuencia a partir de la Transformada de Fourier Discreta (DFT), es importante considerar la simetría del espectro para señales reales.  \n",
    "\n",
    "Debido a que la DFT cumple:\n",
    "\n",
    "$$\n",
    "X[k] = X^{*}[N-k],\n",
    "$$\n",
    "\n",
    "el espectro presenta dos máximos: uno en la frecuencia positiva y otro en la negativa.  \n",
    "\n",
    "Por esta razón, al diseñar el estimador de frecuencia\n",
    "\n",
    "$$\n",
    "\\hat{a} = \\arg \\max_{k} |X[k]|\n",
    "$$\n",
    "\n",
    "debe limitarse la búsqueda al rango\n",
    "\n",
    "$$\n",
    "k = 0, 1, \\dots, \\frac{N}{2},\n",
    "$$\n",
    "\n",
    "que corresponde a las frecuencias positivas \\([0, f_s/2]\\).  \n",
    "\n",
    "De esta forma se evita contar dos veces la misma información y se obtiene una estimación consistente de la frecuencia real de la señal.\n",
    "\n",
    "\n",
    "\n"
   ]
  },
  {
   "cell_type": "markdown",
   "id": "065b8bbe-fde6-41e4-ab0a-9ee6240b21b9",
   "metadata": {},
   "source": [
    "**Sesgo**: diferencia entre el valor esperado del estimador y el valor real del parámetro.\n",
    "\n",
    "$$\n",
    "s_{a} = \\hat{\\mu}_{a} - a_{0}\n",
    "$$\n",
    "\n",
    "\n",
    "**Varianza**: dispersión de las estimaciones respecto a su valor esperado.\n",
    "\n",
    "\n",
    "$$\n",
    "\\nu_{a} = \\frac{1}{M} \\sum_{j=0}^{M-1} \\left( \\hat{a}_{j} - \\hat{\\mu}_{a} \\right)^{2}\n",
    "$$\n",
    "\n",
    "$$\n",
    "\\nu_{a} = \\operatorname{var}\\{\\hat{a}_{0}\\} \n",
    "= E\\left\\{ \\left( \\hat{a}_{0} - E\\{\\hat{a}_{0}\\} \\right)^{2} \\right\\}\n",
    "$$\n",
    "\n",
    "\n",
    "En la práctica se generan múltiples realizaciones de la señal (en este trabajo se emplean 200). Así, se obtiene una medida experimental del sesgo y la varianza para cada combinación de ventana y condición de SNR (3 dB y 10 dB)."
   ]
  },
  {
   "cell_type": "markdown",
   "id": "bf629883-0611-42f4-8eb2-a3f93fbcc9ad",
   "metadata": {},
   "source": [
    "### Ventanas\n",
    "En la práctica, la DFT se aplica a un número finito de muestras, lo cual equivale a multiplicar la señal por una ventana temporal w(n). Esto produce un efecto de convolución espectral, afectando la estimación.\n",
    "Dependiendo de la ventana utilizada, se presentan diferentes compromisos entre:\n",
    "Resolución espectral: capacidad de separar frecuencias cercanas.\n",
    "Fugas espectrales (spectral leakage): dispersión de la energía de un tono en bins vecinos.\n",
    "Exactitud en la estimación de amplitud.\n",
    "\n",
    "\n",
    "Las ventanas analizadas son:\n",
    "- Rectangular: máxima resolución, pero alta fuga espectral.\n",
    "- Flattop: diseñada para mejorar la estimación de amplitud, sacrificando resolución.\n",
    "- Blackman-Harris: reduce significativamente la fuga, aunque ensancha el lóbulo principal.\n",
    "- Gaussiana: ventana flexible, ajustable mediante un parámetro de dispersión.\n"
   ]
  },
  {
   "cell_type": "markdown",
   "id": "8fd68a0a-2e05-43b1-8b8b-0de3f18b2733",
   "metadata": {},
   "source": [
    "# Desarollo del codigo "
   ]
  },
  {
   "cell_type": "markdown",
   "id": "d1b1e401-d590-490b-8242-112025f44f9e",
   "metadata": {},
   "source": [
    "**Librerias**"
   ]
  },
  {
   "cell_type": "code",
   "execution_count": 30,
   "id": "60696aac-e4d6-4227-8045-af55b837f50e",
   "metadata": {},
   "outputs": [],
   "source": [
    "import numpy as np\n",
    "import matplotlib.pyplot as plt\n",
    "from numpy.fft import fft\n",
    "from scipy.signal import windows\n",
    "from numpy.fft import fftfreq"
   ]
  },
  {
   "cell_type": "markdown",
   "id": "26f93807-2ca0-45d8-bf8d-9f8dcf113174",
   "metadata": {},
   "source": [
    "**Funciones**"
   ]
  },
  {
   "cell_type": "code",
   "execution_count": 6,
   "id": "358fe167-343a-4353-b933-5865de464e95",
   "metadata": {},
   "outputs": [],
   "source": [
    "def eje_temporal(N,fs):\n",
    "    Ts = 1/fs\n",
    "    t_final = N*Ts\n",
    "    tt= np.arange(0,t_final,Ts)\n",
    "    return tt\n",
    "\n",
    "def seno(tt,frec,amp,fase = 0, v_medio=0):\n",
    "    xx = amp*np.sin(2*np.pi*frec*tt + fase) + v_medio\n",
    "    return xx"
   ]
  },
  {
   "cell_type": "markdown",
   "id": "099bed11-5ef0-4144-8d0d-228b24750417",
   "metadata": {},
   "source": [
    "**Parametros**"
   ]
  },
  {
   "cell_type": "code",
   "execution_count": 7,
   "id": "a335e579-a332-4143-b78c-7e7e44581319",
   "metadata": {},
   "outputs": [],
   "source": [
    "SNR = 10 #SNR es db\n",
    "amp_0= np.sqrt(2) #en Volts\n",
    "N = 1000\n",
    "fs = N # en Hertz\n",
    "deltaf = fs/N # En Hertz, resolucion espectral.\n",
    "mu = 0\n",
    "realizaciones = 200  \n",
    "\n",
    "fr = np.random.uniform(-2,2,size=realizaciones)*deltaf #Estas son nuestras frecuencias aleatornias, es uns distribucion normal\n",
    "tt = eje_temporal(N = N, fs=fs).flatten()\n",
    "\n",
    "tt = tt.reshape((-1,1))\n",
    "fr = fr.reshape((1,-1))\n",
    "\n",
    "w0 = N/4\n",
    "w1 = 2*np.pi*((w0 + fr) * deltaf)"
   ]
  },
  {
   "cell_type": "markdown",
   "id": "9173f7e5-5ed7-4ea1-b1a4-f19806bc8d75",
   "metadata": {},
   "source": [
    "**Matrices**"
   ]
  },
  {
   "cell_type": "code",
   "execution_count": 11,
   "id": "a40481d1-8f52-4c9b-b0b6-088b3598daf0",
   "metadata": {},
   "outputs": [
    {
     "name": "stdout",
     "output_type": "stream",
     "text": [
      "Potencia/Varianza de ruido: 0.10000000000000002\n",
      "Potencia/Varianza de ruido: 0.09984431334934112\n"
     ]
    }
   ],
   "source": [
    "#Matriz tiempo\n",
    "TT = np.tile(tt, (1,realizaciones))\n",
    "\n",
    "#Matriz frecuencias randoms\n",
    "FF = np.tile(fr, (N,1))\n",
    "\n",
    "#Ruido\n",
    "potencia_ruido = amp_0**2/(2*10**(SNR/10)) #esta seria la varianza tmb\n",
    "print(\"Potencia/Varianza de ruido:\", potencia_ruido)\n",
    "desvio_estandar = np.sqrt(potencia_ruido)\n",
    "\n",
    "#Ruido\n",
    "R = np.random.normal(loc = 0, scale = desvio_estandar, size = (N,realizaciones))\n",
    "varianza_ruido = np.var(R)\n",
    "print(\"Potencia/Varianza de ruido:\", varianza_ruido)\n",
    "\n",
    "#Matriz de señales con ruido\n",
    "S = amp_0*np.sin(w1*TT) + R\n",
    "\n",
    "#Notar que las varizanas son casi iguales calculadas de diferentes maneras."
   ]
  },
  {
   "cell_type": "markdown",
   "id": "d26dcd82-efe6-4b38-946c-08784bd05f0a",
   "metadata": {},
   "source": [
    "**Ventanas**"
   ]
  },
  {
   "cell_type": "code",
   "execution_count": 12,
   "id": "f9e574c5-1b49-4084-a70a-7bf25e50be29",
   "metadata": {},
   "outputs": [],
   "source": [
    "rect = np.ones((N,1))\n",
    "flattop = windows.flattop(N).reshape(N,1)\n",
    "blackmanharris = windows.blackmanharris(N).reshape(N,1)\n",
    "blackman = windows.blackman(N).reshape(N,1)"
   ]
  },
  {
   "cell_type": "markdown",
   "id": "4332aa0e-c123-4c12-81c7-ac93508f24e4",
   "metadata": {},
   "source": [
    "**Ventaneo y transformo FFT**"
   ]
  },
  {
   "cell_type": "code",
   "execution_count": 13,
   "id": "b318d40f-89e6-4f1c-b5c9-8dd4ec2a4b2c",
   "metadata": {},
   "outputs": [],
   "source": [
    "#Venataneo la matriz S (señal de senos con ruido) con las diferentes ventanas\n",
    "S_rect = S*rect\n",
    "S_ventaneada_flattop = S*flattop\n",
    "S_ventaneada_blackmanharris = S*blackmanharris\n",
    "S_ventaneada_blackman = S*blackman\n",
    "\n",
    "#Transformo FFT y escalo por 1/N\n",
    "S_fft = fft(S_rect, axis=0)*(1/N)\n",
    "S_flattop_fft = fft(S_ventaneada_flattop, axis=0)*(1/N)\n",
    "S_blackmanharris_fft = fft(S_ventaneada_blackmanharris, axis=0)*(1/N)\n",
    "S_blackman_fft = fft(S_ventaneada_blackman, axis=0)*(1/N)"
   ]
  },
  {
   "cell_type": "markdown",
   "id": "6cd79d9c-c012-4c37-b63b-148a12be73ca",
   "metadata": {},
   "source": [
    "**Estimadores de amplitud**"
   ]
  },
  {
   "cell_type": "code",
   "execution_count": 23,
   "id": "6048267d-bf2e-4dd7-aed3-aeca02129033",
   "metadata": {},
   "outputs": [
    {
     "data": {
      "image/png": "[encoded data removed]",
      "text/plain": [
       "<Figure size 640x480 with 1 Axes>"
      ]
     },
     "metadata": {},
     "output_type": "display_data"
    }
   ],
   "source": [
    "#Genero los estimadores de amplitud a mitad de banda digital \n",
    "a0 = np.abs(S_fft[N//4, :])\n",
    "a1 = np.abs(S_flattop_fft[N//4, :])\n",
    "a2 = np.abs(S_blackmanharris_fft[N//4, :])\n",
    "a3 = np.abs(S_blackman_fft[N//4, :])\n",
    "\n",
    "#Los paso a dB\n",
    "a0_db = 20*np.log10(a0)\n",
    "a1_db = 20*np.log10(a1)\n",
    "a2_db = 20*np.log10(a2)\n",
    "a3_db = 20*np.log10(a3)\n",
    "\n",
    "amp_real = amp_0\n",
    "amp_real_db = 20*np.log10(amp_real)\n",
    "\n",
    "#Grafico los histogramas de aplitud\n",
    "plt.figure()\n",
    "plt.hist(a0_db, bins=10, alpha=0.3, label=\"sin ventana\")\n",
    "plt.hist(a1_db, bins=10, alpha=0.3, label=\"flattop\")\n",
    "plt.hist(a2_db, bins=10, alpha=0.3, label=\"blackman-harris\")\n",
    "plt.hist(a3_db, bins=10, alpha=0.3, label=\"blackman\")\n",
    "plt.axvline(amp_real_db, color='r', linestyle='--', linewidth=2, label=\"Amplitud real\")\n",
    "plt.legend()\n",
    "plt.title(\"Histogramas de estimadores de amplitud\")\n",
    "plt.show()\n"
   ]
  },
  {
   "cell_type": "markdown",
   "id": "28c4e2fe-46cb-4beb-ade9-eccabb4f8e8d",
   "metadata": {},
   "source": [
    "**Estimadores de frecuencias**"
   ]
  },
  {
   "cell_type": "code",
   "execution_count": 22,
   "id": "9bb224eb-512f-4e47-a5b2-bc29cedb372a",
   "metadata": {},
   "outputs": [
    {
     "data": {
      "image/png": "[encoded data removed]",
      "text/plain": [
       "<Figure size 640x480 with 1 Axes>"
      ]
     },
     "metadata": {},
     "output_type": "display_data"
    }
   ],
   "source": [
    "#de 0 a fs/2 porque despues de fs/2 hay simetria y si no lo reduzco va a encontrar dos picos y no quiero eso\n",
    "f1 = np.abs(np.argmax(S_fft[:N//2, :], axis=0))\n",
    "f2 = np.abs(np.argmax(S_flattop_fft[:N//2, :], axis=0))\n",
    "f3 = np.abs(np.argmax(S_blackmanharris_fft[:N//2, :], axis=0))\n",
    "f4 = np.abs(np.argmax(S_blackman_fft[:N//2, :], axis=0))\n",
    "\n",
    "# eje de frecuencias (Hz)\n",
    "freqs = np.fft.fftfreq(N, d=1/fs)  # vector de frecuencias entre -fs/2 y fs/2\n",
    "freqs_pos = freqs[:N//2]\n",
    "\n",
    "# Los paso a  Hz\n",
    "f1_hz = freqs_pos[f1]\n",
    "f2_hz = freqs_pos[f2]\n",
    "f3_hz = freqs_pos[f3]\n",
    "f4_hz = freqs_pos[f4]\n",
    "#Grafico los histogramas de frecuencias\n",
    "plt.figure()\n",
    "plt.hist(f1_hz, bins=50, alpha=0.3, label=\"Rectangular\")\n",
    "plt.hist(f2_hz, bins=50, alpha=0.3, label=\"Flattop\")\n",
    "plt.hist(f3_hz, bins=50, alpha=0.3, label=\"Blackman-Harris\")\n",
    "plt.hist(f4_hz, bins=50, alpha=0.3, label=\"Blackman\")\n",
    "plt.xlabel(\"Frecuencia estimada (Hz)\")\n",
    "plt.ylabel(\"Número de realizaciones\")\n",
    "plt.title(\"Histogramas de los estimadores de frecuencia\")\n",
    "plt.legend()\n",
    "plt.show()"
   ]
  },
  {
   "cell_type": "markdown",
   "id": "665ac0c2-457b-40d5-a174-226bd77655c0",
   "metadata": {},
   "source": [
    "**Tablas**"
   ]
  },
  {
   "cell_type": "code",
   "execution_count": 33,
   "id": "707c2f64-e896-478e-8cb1-0b83a4b44693",
   "metadata": {},
   "outputs": [
    {
     "name": "stdout",
     "output_type": "stream",
     "text": [
      "Tabla estimadores de amplitud (SNR=10 dB)\n",
      "Ventana         Sesgo (V)       Varianza (V^2) \n",
      "Rectangular     -1.145156       0.057281       \n",
      "Flattop         -1.273474       0.000226       \n",
      "Blackman-Harris -1.241363       0.004194       \n",
      "Blackman        -1.231754       0.007745       \n",
      "\n",
      "Tabla estimadores de frecuencia (SNR=10 dB)\n",
      "Ventana         Sesgo (Hz)      Varianza (Hz^2)\n",
      "Rectangular     0.355411        1624.074775    \n",
      "Flattop         1.440411        987.247500     \n",
      "Blackman-Harris -1.759589       1861.307500    \n",
      "Blackman        -1.884589       1844.454375    \n"
     ]
    }
   ],
   "source": [
    "#esperanza\n",
    "mu_a0 = np.mean(a0) \n",
    "mu_a1 = np.mean(a1)\n",
    "mu_a2 = np.mean(a2)\n",
    "mu_a3 = np.mean(a3)\n",
    "\n",
    "# sesgo\n",
    "sesgo_a0 = mu_a0 - amp_real\n",
    "sesgo_a1 = mu_a1 - amp_real\n",
    "sesgo_a2 = mu_a2 - amp_real\n",
    "sesgo_a3 = mu_a3 - amp_real\n",
    "\n",
    "#varianza\n",
    "var_a0 = np.var(a0, ddof=1)  \n",
    "var_a1 = np.var(a1, ddof=1)\n",
    "var_a2 = np.var(a2, ddof=1)\n",
    "var_a3 = np.var(a3, ddof=1)\n",
    "\n",
    "\n",
    "f_real = ((w0 + fr.flatten()) * deltaf) \n",
    "\n",
    "#esperanza\n",
    "mu_f1 = np.mean(f1_hz)\n",
    "mu_f2 = np.mean(f2_hz)\n",
    "mu_f3 = np.mean(f3_hz)\n",
    "mu_f4 = np.mean(f4_hz)\n",
    "\n",
    "# sesgo\n",
    "sesgo_f1 = mu_f1 - f_real.mean()  # le calculo la media al valor real xq es un vector \n",
    "sesgo_f2 = mu_f2 - f_real.mean()\n",
    "sesgo_f3 = mu_f3 - f_real.mean()\n",
    "sesgo_f4 = mu_f4 - f_real.mean()\n",
    "\n",
    "#varianza\n",
    "var_f1 = np.var(f1_hz)\n",
    "var_f2 = np.var(f2_hz)\n",
    "var_f3 = np.var(f3_hz)\n",
    "var_f4 = np.var(f4_hz)\n",
    "\n",
    "#Datos de amplitud\n",
    "ventanas = [\"Rectangular\", \"Flattop\", \"Blackman-Harris\", \"Blackman\"]\n",
    "sesgos_amp = [sesgo_a0, sesgo_a1, sesgo_a2, sesgo_a3]\n",
    "varianzas_amp = [var_a0, var_a1, var_a2, var_a3]\n",
    "\n",
    "#Datos de frecuencia\n",
    "sesgos_frec = [sesgo_f1, sesgo_f2, sesgo_f3, sesgo_f4]\n",
    "varianzas_frec = [var_f1, var_f2, var_f3, var_f4]\n",
    "\n",
    "#Tabla amplitud\n",
    "print(\"Tabla estimadores de amplitud (SNR=10 dB)\")\n",
    "print(f\"{'Ventana':<15} {'Sesgo (V)':<15} {'Varianza (V^2)':<15}\")\n",
    "for v, s, var in zip(ventanas, sesgos_amp, varianzas_amp):\n",
    "    print(f\"{v:<15} {s:<15.6f} {var:<15.6f}\")\n",
    "    \n",
    "#Tabla frecuencia\n",
    "print(\"\\nTabla estimadores de frecuencia (SNR=10 dB)\")\n",
    "print(f\"{'Ventana':<15} {'Sesgo (Hz)':<15} {'Varianza (Hz^2)':<15}\")\n",
    "for v, s, var in zip(ventanas, sesgos_frec, varianzas_frec):\n",
    "    print(f\"{v:<15} {s:<15.6f} {var:<15.6f}\")\n"
   ]
  },
  {
   "cell_type": "markdown",
   "id": "ec19a581-eb89-4917-8d1b-a5d3dddf5b3c",
   "metadata": {},
   "source": [
    "# Conclusiones"
   ]
  },
  {
   "cell_type": "markdown",
   "id": "216b286e",
   "metadata": {},
   "source": [
    "Probamos el codigo con SNR de 3db y de 10db y llegamos a la conclusion de que a SNR mas alto los estimadores son más precisos y histogramas mas estrechos, se vio claramente en el de frecuencia. En cambio, a SNR bajo los estimadores fueron más dispersos y por lo tanto los histogramas más amplios. \n",
    "\n",
    "Por otro lado, en el gráfico del histograma de estimadores de amplitud se observa claramente que la ventana flattop es la que presenta menor dispersión de datos (menor varianza), aunque a su vez muestra un mayor sesgo. En cambio, la ventana rectangular presenta la mayor varianza, pero con el beneficio de un sesgo más reducido. Si lo que queremos es medir con presición la amplitud de los picos elegiría la ventana flattop aunque sesge un poco"
   ]
  }
 ],
 "metadata": {
  "kernelspec": {
   "display_name": "Python 3 (ipykernel)",
   "language": "python",
   "name": "python3"
  },
  "language_info": {
   "codemirror_mode": {
    "name": "ipython",
    "version": 3
   },
   "file_extension": ".py",
   "mimetype": "text/x-python",
   "name": "python",
   "nbconvert_exporter": "python",
   "pygments_lexer": "ipython3",
   "version": "3.9.0"
  }
 },
 "nbformat": 4,
 "nbformat_minor": 5
}
